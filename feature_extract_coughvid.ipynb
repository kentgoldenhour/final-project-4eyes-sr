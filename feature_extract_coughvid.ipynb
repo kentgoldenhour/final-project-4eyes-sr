{
 "cells": [
  {
   "cell_type": "code",
   "execution_count": 1,
   "metadata": {},
   "outputs": [],
   "source": [
    "# feature extractoring and preprocessing data\n",
    "import librosa\n",
    "import librosa, librosa.display, csv, os\n",
    "import pandas as pd\n",
    "import numpy as np\n",
    "import matplotlib.pyplot as plt\n",
    "\n",
    "import warnings\n",
    "warnings.filterwarnings('ignore')"
   ]
  },
  {
   "cell_type": "code",
   "execution_count": 2,
   "metadata": {},
   "outputs": [],
   "source": [
    "new_csv = pd.read_csv(\"dataset/data_coughvid_raw.csv\")"
   ]
  },
  {
   "cell_type": "code",
   "execution_count": null,
   "metadata": {},
   "outputs": [],
   "source": [
    "header = 'filename chroma_stft rmse spectral_centroid spectral_bandwidth rolloff zero_crossing_rate'\n",
    "for i in range(1, 21):\n",
    "    header += f' mfcc{i}'\n",
    "header += ' label'\n",
    "header = header.split()\n",
    "print (header)"
   ]
  },
  {
   "cell_type": "code",
   "execution_count": null,
   "metadata": {},
   "outputs": [],
   "source": [
    "# Note: data sample yang terdapat di folder tersebut lebih sedikit karena memory ku penuh TT\n",
    "# Data yang sudah diekstrak telah sebelumnya aku buat sehingga dapat digunakan terus menerus\n",
    "\n",
    "file = open('dataset/data_coughvid.csv', 'w')\n",
    "with file:\n",
    "    writer = csv.writer(file)\n",
    "    writer.writerow(header)\n",
    "for i in range(27550):\n",
    "        print(f\"{i}.\")\n",
    "        source = new_csv['uuid'][i]\n",
    "        if(new_csv['status'] is 'nan'):\n",
    "             continue\n",
    "        print ('source',source)\n",
    "        file_name = '../Covid-19 Screening/public_dataset/'+source+'.wav'\n",
    "        label =  new_csv['status'][i]\n",
    "        print ('\\nlabel', label)\n",
    "        y,sr = librosa.load(file_name, mono=True, duration=5)\n",
    "        chroma_stft = librosa.feature.chroma_stft(y=y, sr=sr)\n",
    "        rmse = librosa.feature.rms(y=y)\n",
    "        spec_cent = librosa.feature.spectral_centroid(y=y, sr=sr,hop_length=1024)\n",
    "        spec_bw = librosa.feature.spectral_bandwidth(y=y, sr=sr,hop_length=1024)\n",
    "        rolloff = librosa.feature.spectral_rolloff(y=y, sr=sr,hop_length=1024)\n",
    "        zcr = librosa.feature.zero_crossing_rate(y)\n",
    "        mfcc = librosa.feature.mfcc(y=y, sr=sr)\n",
    "        to_append = f'{np.mean(chroma_stft)} {np.mean(rmse)} {np.mean(spec_cent)} {np.mean(spec_bw)} {np.mean(rolloff)} {np.mean(zcr)}'    \n",
    "        librosa.display.specshow(mfcc, x_axis='time') #Show MFCC\n",
    "        plt.title('MFCC')\n",
    "        \n",
    "        for e in mfcc:\n",
    "            to_append += f' {np.mean(e)}'\n",
    "        to_append += f' {label}'\n",
    "        value = [str(source)]\n",
    "        value.extend(to_append.split())\n",
    "        file = open('dataset/data_coughvid.csv', 'a')\n",
    "        with file:\n",
    "            writer = csv.writer(file)\n",
    "            writer.writerow(value)\n",
    "            \n",
    "new_csv_extended = pd.read_csv('dataset/data_coughvid.csv')"
   ]
  }
 ],
 "metadata": {
  "kernelspec": {
   "display_name": "SPEECH_RECOGNITION",
   "language": "python",
   "name": "python3"
  },
  "language_info": {
   "codemirror_mode": {
    "name": "ipython",
    "version": 3
   },
   "file_extension": ".py",
   "mimetype": "text/x-python",
   "name": "python",
   "nbconvert_exporter": "python",
   "pygments_lexer": "ipython3",
   "version": "3.12.3"
  }
 },
 "nbformat": 4,
 "nbformat_minor": 2
}
